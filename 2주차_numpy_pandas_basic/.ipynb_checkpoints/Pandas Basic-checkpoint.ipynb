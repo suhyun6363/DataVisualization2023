{
 "cells": [
  {
   "cell_type": "markdown",
   "metadata": {},
   "source": [
    "# 데이터 분석 프로그래밍 Pandas Basic"
   ]
  },
  {
   "cell_type": "markdown",
   "metadata": {},
   "source": [
    "# 1. 시리즈와 데이터프레임"
   ]
  },
  {
   "cell_type": "markdown",
   "metadata": {},
   "source": [
    "### 시리즈 \n",
    "인덱스와 쌍으로 이루어진 데이터"
   ]
  },
  {
   "cell_type": "code",
   "execution_count": null,
   "metadata": {
    "scrolled": false
   },
   "outputs": [],
   "source": [
    "#라이브러리 불러오기\n",
    "import pandas as pd\n",
    "sd1 = pd.Series(['Dog','Cat','Tiger','Lion','Monkey'],index=['0','1', '2','3','4'] )\n",
    "\n",
    "#시리즈데이터 출력\n",
    "sd1"
   ]
  },
  {
   "cell_type": "markdown",
   "metadata": {},
   "source": [
    "#### 1) 딕셔너리를 이용해 만들기\n",
    "key가 인덱스, value는 열 데이터로 처리됨"
   ]
  },
  {
   "cell_type": "code",
   "execution_count": null,
   "metadata": {},
   "outputs": [],
   "source": [
    "#딕셔너리로 Series 생성\n",
    "dict_data = {'a':1,'b':2,'c':3}\n",
    "sd2 = pd.Series(dict_data)\n",
    "print(sd2) #시리즈데이터 출력\n",
    "\n",
    "#타입 확인\n",
    "type(sd2)"
   ]
  },
  {
   "cell_type": "markdown",
   "metadata": {},
   "source": [
    "#### 2) 리스트를 이용해 만들기\n",
    "list는 키 값이 없는 순서 자료형, 인덱스를 지정하지 않으면 자동으로 0부터 지정됨"
   ]
  },
  {
   "cell_type": "code",
   "execution_count": null,
   "metadata": {},
   "outputs": [],
   "source": [
    "import pandas as pd\n",
    "\n",
    "#리스트로 Series 생성\n",
    "list_data = ['Dog','Cat','Tiger','Lion','Monkey']\n",
    "sd3 = pd.Series(list_data) \n",
    "print(sd3)\n",
    "\n",
    "sd3 = pd.Series(list_data,index=['A','B', 'C','D','E']) \n",
    "#데이터 확인\n",
    "print(sd3)"
   ]
  },
  {
   "cell_type": "markdown",
   "metadata": {},
   "source": [
    "#### 3) 튜플을 이용해 만들기\n",
    "index도 튜플로 지정 가능"
   ]
  },
  {
   "cell_type": "code",
   "execution_count": null,
   "metadata": {},
   "outputs": [],
   "source": [
    "import pandas as pd\n",
    "#튜플로 Series 생성\n",
    "tup_data = ('이순신','1991-03-15','남')\n",
    "sd4 = pd.Series(tup_data, index = ('이름','생년월일','성별'))\n",
    "\n",
    "#데이터 확인\n",
    "sd4"
   ]
  },
  {
   "cell_type": "markdown",
   "metadata": {},
   "source": [
    "### 데이터프레임\n",
    "엑셀 스프레드시트 형태인 행과 열 자료구조. 여러 개의 Series가 합쳐진 구조\n",
    "Pandas 기본 구조로 데이터 분석 시 가장 많이 사용하는 구조임."
   ]
  },
  {
   "cell_type": "markdown",
   "metadata": {},
   "source": [
    "#### 1) 딕셔너리를 이용해 만들기\n",
    "Dict Key에 의해 column이 추가되는 형태"
   ]
  },
  {
   "cell_type": "code",
   "execution_count": null,
   "metadata": {},
   "outputs": [],
   "source": [
    "#라이브러리 불러오기\n",
    "import pandas as pd\n",
    "\n",
    "#딕셔너리로로 데이터프레임 생성\n",
    "dict_data = {'동물':['Dog','Cat','Tiger','Lion','Monkey'],'나이':[7,9,2,3,1]}\n",
    "df1 = pd.DataFrame(dict_data)\n",
    "\n",
    "#타입 확인\n",
    "print(type(df1))\n",
    "\n",
    "#데이터 확인\n",
    "print(df1)"
   ]
  },
  {
   "cell_type": "markdown",
   "metadata": {},
   "source": [
    "#### 2) 리스트를 이용해 만들기\n",
    "list in list에 의해 row값이 추가되는 형태"
   ]
  },
  {
   "cell_type": "code",
   "execution_count": null,
   "metadata": {},
   "outputs": [],
   "source": [
    "#라이브러리 불러오기\n",
    "import pandas as pd\n",
    "\n",
    "#리스트로 데이터프레임 생성\n",
    "df2 = pd.DataFrame([['Dog','7'], ['Cat','9'], ['Tiger','2'], ['Lion','3'],['Monkey','1']],    # 행 데이터 pair\n",
    "                  index = ['0','1','2','3','4'],                                              # index 지정 가능\n",
    "                  columns = ['동물','나이'])                                                  # dict의 key에 해당\n",
    "\n",
    "#타입 확인\n",
    "print(type(df2))\n",
    "#데이터 확인\n",
    "print(df2)"
   ]
  },
  {
   "cell_type": "markdown",
   "metadata": {},
   "source": [
    "# 2. 데이터프레임 기초 가공 / 기초 전처리\n",
    "주어진 데이터를 바로 사용하기보다는 원하는 형태로 변형하는 경우가 대부분임.\n",
    "데이터/형태를 가공하는 과정이 data preprocessing(전처리) / data manipulation(조작?).\n",
    "필요한 데이터만 가져오기\n",
    "\n"
   ]
  },
  {
   "cell_type": "markdown",
   "metadata": {},
   "source": [
    "###  데이터 요약 보기"
   ]
  },
  {
   "cell_type": "code",
   "execution_count": null,
   "metadata": {},
   "outputs": [],
   "source": [
    "# 관련 라이브러리 불러오기\n",
    "import pandas as pd           #판다스\n",
    "import seaborn as sns          #시본 \n",
    "\n",
    "#데이터 준비 시본에 내장된 팁 데이터 \n",
    "tips = sns.load_dataset(\"tips\")    # 팁 데이터\n",
    "print(tips.dtypes)\n",
    "print(tips)\n"
   ]
  },
  {
   "cell_type": "code",
   "execution_count": null,
   "metadata": {},
   "outputs": [],
   "source": [
    "tips.info()\n",
    "sns.relplot(x=\"total_bill\", y=\"tip\", data=tips)"
   ]
  },
  {
   "cell_type": "markdown",
   "metadata": {},
   "source": [
    "### 행 상하위 데이터 추출"
   ]
  },
  {
   "cell_type": "code",
   "execution_count": null,
   "metadata": {},
   "outputs": [],
   "source": [
    "#데이터프레임에서 행의 상위 5개(default) 데이터 추출\n",
    "tips.head()"
   ]
  },
  {
   "cell_type": "code",
   "execution_count": null,
   "metadata": {},
   "outputs": [],
   "source": [
    "#데이터프레임에서 행의 상위 10개 데이터 추출\n",
    "tips.head(10)"
   ]
  },
  {
   "cell_type": "code",
   "execution_count": null,
   "metadata": {},
   "outputs": [],
   "source": [
    "#데이터프레임에서 열의 하위 데이터 추출 \n",
    "tips.tail()"
   ]
  },
  {
   "cell_type": "code",
   "execution_count": null,
   "metadata": {},
   "outputs": [],
   "source": [
    "#데이터프레임에서 행의 하위 3개 데이터 추출\n",
    "tips.tail(12)"
   ]
  },
  {
   "cell_type": "markdown",
   "metadata": {},
   "source": [
    "### 행 데이터만 추출하기"
   ]
  },
  {
   "cell_type": "markdown",
   "metadata": {},
   "source": [
    "#### loc와 iloc 인덱스와 행번호란?\n",
    "#### loc : 인덱스 기준으로 행 데이터 읽기\n",
    "#### iloc : 행 번호를 기준으로 행 데이터 읽기"
   ]
  },
  {
   "cell_type": "code",
   "execution_count": null,
   "metadata": {},
   "outputs": [],
   "source": [
    "# 2번 인덱스를 삭제하고 새로운 데이터프레임 tips1 생성\n",
    "#drop안에 삭제할 인덱스 list 명시\n",
    "tips1 = tips.drop([2, 3, 7]) \n",
    "tips1.head(10)"
   ]
  },
  {
   "cell_type": "code",
   "execution_count": null,
   "metadata": {},
   "outputs": [],
   "source": [
    "tips1.iloc[2]"
   ]
  },
  {
   "cell_type": "code",
   "execution_count": null,
   "metadata": {},
   "outputs": [],
   "source": [
    "# 이미 지워진 인덱스 2번을 삭제하여 오류 발생\n",
    "tips1.loc[2]"
   ]
  },
  {
   "cell_type": "code",
   "execution_count": null,
   "metadata": {},
   "outputs": [],
   "source": [
    "#데이터프레임의 기본 정보 확인 \n",
    "tips.info()"
   ]
  },
  {
   "cell_type": "markdown",
   "metadata": {},
   "source": [
    "#### 1) 인덱스 읽기"
   ]
  },
  {
   "cell_type": "code",
   "execution_count": null,
   "metadata": {},
   "outputs": [],
   "source": [
    "#데이터프레임에서 프레임에서 인덱스가 0인 데이터 추출 \n",
    "tips.loc[0]"
   ]
  },
  {
   "cell_type": "code",
   "execution_count": null,
   "metadata": {},
   "outputs": [],
   "source": [
    "#1, 3, 5 인덱스의 데이터를 한꺼번에 가져오기\n",
    "tips.loc[4:20]"
   ]
  },
  {
   "cell_type": "markdown",
   "metadata": {},
   "source": [
    "#### 2) 행번호 읽기"
   ]
  },
  {
   "cell_type": "code",
   "execution_count": null,
   "metadata": {},
   "outputs": [],
   "source": [
    "#데이터 프레임에서 0번째 행 데이터 추출\n",
    "tips.iloc[0]"
   ]
  },
  {
   "cell_type": "code",
   "execution_count": null,
   "metadata": {},
   "outputs": [],
   "source": [
    " #-1을 사용하여 마지막 행 데이터를 추출한 예제\n",
    "tips.iloc[-1]"
   ]
  },
  {
   "cell_type": "markdown",
   "metadata": {},
   "source": [
    "#### 3) 특정 행 범위 영역을 선택"
   ]
  },
  {
   "cell_type": "code",
   "execution_count": null,
   "metadata": {},
   "outputs": [],
   "source": [
    "# tips[0:3]라고 하면 0, 1, 2번째 행을 출력합니다. 데이터프레임의 첫 번째 행을 0번째 행이라고 가정하며 \n",
    "# [0:3]이라고 입력했지만 3번째 행을 가져오지 않음에 유의하세요.\n",
    "tips[0:3]"
   ]
  },
  {
   "cell_type": "code",
   "execution_count": null,
   "metadata": {},
   "outputs": [],
   "source": [
    "tips.iloc[0:3]"
   ]
  },
  {
   "cell_type": "code",
   "execution_count": null,
   "metadata": {},
   "outputs": [],
   "source": [
    "tips.loc[0:3]"
   ]
  },
  {
   "cell_type": "code",
   "execution_count": null,
   "metadata": {},
   "outputs": [],
   "source": [
    "# 특정 column 지정해서 가져오기\n",
    "tips.loc[0:3,['tip','day']]"
   ]
  },
  {
   "cell_type": "code",
   "execution_count": null,
   "metadata": {},
   "outputs": [],
   "source": [
    "tips.loc[0,['tip']]"
   ]
  },
  {
   "cell_type": "code",
   "execution_count": null,
   "metadata": {},
   "outputs": [],
   "source": [
    "#특정 인덱스 값과 특정 컬럼에 있는 값 가져오기. \n",
    " \n",
    "#tips.at[0,'total_bill']\n",
    "tips.at[0,'total_bill']"
   ]
  },
  {
   "cell_type": "code",
   "execution_count": null,
   "metadata": {},
   "outputs": [],
   "source": [
    "# 위치를 이용하여 선택하기: .iloc\n",
    "tips.iloc[3]"
   ]
  },
  {
   "cell_type": "code",
   "execution_count": null,
   "metadata": {},
   "outputs": [],
   "source": [
    "#인덱스 번호로 행뿐만 아니라 열도 선택할 수 있습니다. \n",
    "\n",
    "tips.iloc[3:5,0:2]      # slicing 범위 지정\n"
   ]
  },
  {
   "cell_type": "code",
   "execution_count": null,
   "metadata": {},
   "outputs": [],
   "source": [
    "#행과 열의 인덱스를 리스트로 넘겨줄 수도 있습니다. \n",
    "tips.iloc[[1,2,4],[0,2]]  # 특정 원소 지정"
   ]
  },
  {
   "cell_type": "code",
   "execution_count": null,
   "metadata": {},
   "outputs": [],
   "source": [
    "# 명시적으로 행이나 열 선택 인자에 ‘:’ 슬라이스를 전달하면 전체 선택\n",
    "tips.iloc[1:3,:]"
   ]
  },
  {
   "cell_type": "code",
   "execution_count": null,
   "metadata": {},
   "outputs": [],
   "source": [
    "tips.iloc[:,1:3]"
   ]
  },
  {
   "cell_type": "code",
   "execution_count": null,
   "metadata": {},
   "outputs": [],
   "source": [
    "#값 하나를 선택하기 위해서는 특정 행과 열을 지정\n",
    "tips.iloc[1,1]"
   ]
  },
  {
   "cell_type": "code",
   "execution_count": null,
   "metadata": {},
   "outputs": [],
   "source": [
    "tips.iat[1,1]"
   ]
  },
  {
   "cell_type": "markdown",
   "metadata": {},
   "source": [
    "### 4) 조건을 이용하여 선택"
   ]
  },
  {
   "cell_type": "code",
   "execution_count": null,
   "metadata": {},
   "outputs": [],
   "source": [
    "# 조건은 컬럼 데이터를 조건식과 비교하여 데이터를 추출하는 데이터베이스 SQL과 유사합니다\n",
    "# 전체 데이터중 팁이 5 달러 이상\n",
    "tips[tips.tip > 5]            #tips.tip > 5 결과에 따라 TRUE / FALSE인 series 타입 return"
   ]
  },
  {
   "cell_type": "code",
   "execution_count": null,
   "metadata": {},
   "outputs": [],
   "source": [
    "# and 조건 – 남자 손님이면서 비흡연자\n",
    "tips[(tips['day']=='Sun') & (tips['smoker']=='No')]"
   ]
  },
  {
   "cell_type": "markdown",
   "metadata": {},
   "source": [
    "### 5) 특정 조건 선택"
   ]
  },
  {
   "cell_type": "code",
   "execution_count": null,
   "metadata": {},
   "outputs": [],
   "source": [
    "# 특정조건 선택시 ‘isin’ 함수를 많이 사용합니다. \n",
    "# 일요일 이면 True\n",
    "[tips['day'].isin(['Sun'])]"
   ]
  },
  {
   "cell_type": "code",
   "execution_count": null,
   "metadata": {},
   "outputs": [],
   "source": [
    "# 팁을 1달러 지불한 고객\n",
    "tips[tips['tip'].isin([1])]"
   ]
  },
  {
   "cell_type": "markdown",
   "metadata": {},
   "source": [
    "### 열 변수  "
   ]
  },
  {
   "cell_type": "markdown",
   "metadata": {},
   "source": [
    "#### 1) 열변수 추출"
   ]
  },
  {
   "cell_type": "code",
   "execution_count": null,
   "metadata": {},
   "outputs": [],
   "source": [
    "#데이터프레임에서 tips과 손님수 가지고 오기 /  series 반환\n",
    "tips.tip                    # 구조체 처럼 접근"
   ]
  },
  {
   "cell_type": "code",
   "execution_count": null,
   "metadata": {
    "scrolled": false
   },
   "outputs": [],
   "source": [
    "tips['size']              # column 명으로 접근"
   ]
  },
  {
   "cell_type": "markdown",
   "metadata": {},
   "source": [
    "#### 2) 여러 개 열 변수 한 번에 추출하기 "
   ]
  },
  {
   "cell_type": "code",
   "execution_count": null,
   "metadata": {},
   "outputs": [],
   "source": [
    "#데이터프레임 'total_bill ', 'tip', 'day' 열 변수 추출\n",
    "tips [['total_bill','tip','day']]"
   ]
  },
  {
   "cell_type": "markdown",
   "metadata": {},
   "source": [
    "#### 3) 파생변수(유도변수) 만들기\n",
    "특정 목적을 위해 기존 변수에서 새로운 변수를 유도/생성"
   ]
  },
  {
   "cell_type": "code",
   "execution_count": null,
   "metadata": {},
   "outputs": [],
   "source": [
    "# 금액과 팁의 합계인 총액 (total)파생변수 만들기\n",
    "tips['total'] = tips['total_bill'] + tips['tip']\n",
    "tips.info()\n",
    "\n"
   ]
  },
  {
   "cell_type": "markdown",
   "metadata": {},
   "source": [
    "### 데이터조작"
   ]
  },
  {
   "cell_type": "markdown",
   "metadata": {},
   "source": [
    "#### 1)데이터 개수확인"
   ]
  },
  {
   "cell_type": "code",
   "execution_count": null,
   "metadata": {},
   "outputs": [],
   "source": [
    "#데이터프레임의 개수 확인 \n",
    "tips.count( )"
   ]
  },
  {
   "cell_type": "code",
   "execution_count": null,
   "metadata": {},
   "outputs": [],
   "source": [
    "len(tips)"
   ]
  },
  {
   "cell_type": "markdown",
   "metadata": {},
   "source": [
    "#### 2) 기타 보기 "
   ]
  },
  {
   "cell_type": "code",
   "execution_count": null,
   "metadata": {},
   "outputs": [],
   "source": [
    "# 데이터프레임 인덱스 보기\n",
    "tips.index"
   ]
  },
  {
   "cell_type": "code",
   "execution_count": null,
   "metadata": {},
   "outputs": [],
   "source": [
    "# 데이터프레임 컬럼 보기\n",
    "tips.columns"
   ]
  },
  {
   "cell_type": "code",
   "execution_count": null,
   "metadata": {},
   "outputs": [],
   "source": [
    "tips.columns.values"
   ]
  },
  {
   "cell_type": "code",
   "execution_count": null,
   "metadata": {},
   "outputs": [],
   "source": [
    "# 행, 열 구조 보기 \n",
    "tips.values"
   ]
  },
  {
   "cell_type": "markdown",
   "metadata": {},
   "source": [
    "#### 3) 정렬 "
   ]
  },
  {
   "cell_type": "code",
   "execution_count": null,
   "metadata": {},
   "outputs": [],
   "source": [
    "# 지급액'열(by=' total_bill ')을 기준으로 index(axis=0) 오름차순 정렬하기\n",
    "\n",
    "sorted_tips = tips.sort_values(by=['total_bill'])    #defualt axis = 0 : 열방향  오름차준\n",
    "sorted_tips"
   ]
  },
  {
   "cell_type": "code",
   "execution_count": null,
   "metadata": {},
   "outputs": [],
   "source": [
    "# 지급액'열(by=' total_bill ')을 기준으로 index(axis=0) 내림차순 정렬하기 ascending=False 옵션 추가 \n",
    "tips.sort_values(by=['total_bill'], axis=0, ascending=False)"
   ]
  },
  {
   "cell_type": "code",
   "execution_count": null,
   "metadata": {},
   "outputs": [],
   "source": [
    "#열 이름을 (알파벳 순서로) 정렬하기 : axis=1\n",
    "tips.sort_index(axis=1)   # (axis = 0) : 인덱스명 정렬(defualt),  (axis = 1) : 컬럼명 정렬"
   ]
  },
  {
   "cell_type": "markdown",
   "metadata": {},
   "source": [
    "#### 4) 행/열 합계"
   ]
  },
  {
   "cell_type": "code",
   "execution_count": null,
   "metadata": {},
   "outputs": [],
   "source": [
    "# 행 합계를 구할 때는 sum(axis=1) 메서드를 사용한다.\n",
    "# warning이 발생하는데, 이는 숫자형 데이터 외 다른 데이터가 데이터 프레임에 포함되어 있기 때문에 주의의 주는 것임\n",
    "# 파라미터에 numeric_only=True 입력하면 경고 없어짐\n",
    "tips.sum(axis=1)"
   ]
  },
  {
   "cell_type": "code",
   "execution_count": null,
   "metadata": {},
   "outputs": [],
   "source": [
    "# 열 합계를 구할 때는 sum(axis=0) 메서드를 사용하는데 axis인수의 디폴트 값이 0이므로 axis인수를 생략할 수 있다.\n",
    "tips.sum(numeric_only=True)"
   ]
  },
  {
   "cell_type": "markdown",
   "metadata": {},
   "source": [
    "## 4. 데이터 병합과 연결"
   ]
  },
  {
   "cell_type": "markdown",
   "metadata": {},
   "source": [
    "### 데이터 연결\n",
    "데이터의 행을 위, 아래 또는 좌우로 결합하는 방법"
   ]
  },
  {
   "cell_type": "code",
   "execution_count": null,
   "metadata": {},
   "outputs": [],
   "source": [
    "import pandas as pd\n",
    "\n",
    "# 시리즈를 데이터프레임의 새로운 행으로 연결하려면\n",
    "s1 = pd.Series([0, 1], index=['A', 'B'])\n",
    "s2 = pd.Series([2, 3, 4], index=['c', 'd', 'e'])\n",
    "print(s1)\n",
    "print(s2)\n",
    "print(pd.concat([s1, s2]))"
   ]
  },
  {
   "cell_type": "code",
   "execution_count": null,
   "metadata": {},
   "outputs": [],
   "source": [
    "#만약 옆으로 데이터 열을 연결하고 싶으면 axis=1로 인수를 설정한다.\n",
    "df1 = pd.DataFrame([['Dog','3'], ['Bird','10'], ['Tiger','6'], ['Moose','3']],\n",
    "                  index = ['0','1','2','3'],\n",
    "                  columns = ['동물','나이'])\n",
    "df1"
   ]
  },
  {
   "cell_type": "code",
   "execution_count": null,
   "metadata": {},
   "outputs": [],
   "source": [
    "df2 = pd.DataFrame([['집','0'], ['초원','0'], ['수풀','0'], ['초원','1']],\n",
    "                  index = ['0','1','2','3'],\n",
    "                  columns = ['사는곳','뿔의 개수'])\n",
    "df2"
   ]
  },
  {
   "cell_type": "code",
   "execution_count": null,
   "metadata": {},
   "outputs": [],
   "source": [
    "print(pd.concat([df1, df2], axis=1))\n",
    "\n",
    "# series 와 같이 axis=0이면 어떻게 될까?\n",
    "\n"
   ]
  },
  {
   "cell_type": "markdown",
   "metadata": {},
   "source": [
    "### 데이터 병합\n",
    "두 데이터프레임(테이블)의 공통  column을 기준으로 병합"
   ]
  },
  {
   "cell_type": "code",
   "execution_count": null,
   "metadata": {},
   "outputs": [],
   "source": [
    "import pandas as pd\n",
    "\n",
    "# 병합용 데이터프레임 생성\n",
    "df1 = pd.DataFrame({ '고객번호': [1001, 1002, 1003, 1004, 1005, 1006, 1007],\n",
    "    '이름': ['강감찬', '홍길동', '이순신', '장보고', '유관순', '신사임당', '세종대왕']\n",
    "}, columns=['고객번호', '이름'])\n",
    "df1"
   ]
  },
  {
   "cell_type": "code",
   "execution_count": null,
   "metadata": {},
   "outputs": [],
   "source": [
    "df2 = pd.DataFrame({'고객번호': [1001, 1001, 1005, 1006, 1008, 1001],\n",
    "    '금액': [10000, 20000, 15000, 5000, 100000, 30000]\n",
    "}, columns=['고객번호', '금액'])\n",
    "df2"
   ]
  },
  {
   "cell_type": "code",
   "execution_count": null,
   "metadata": {},
   "outputs": [],
   "source": [
    "# inner join\n",
    "pd.merge(df1, df2, on='고객번호')"
   ]
  },
  {
   "cell_type": "code",
   "execution_count": null,
   "metadata": {},
   "outputs": [],
   "source": [
    "# Full join 방식은 키 값이 한쪽에만 있어도 데이터를 보여준다.\n",
    "pd.merge(df1, df2, how='outer')"
   ]
  },
  {
   "cell_type": "code",
   "execution_count": null,
   "metadata": {},
   "outputs": [],
   "source": [
    "# left, right 방식은 각각 첫번째, 혹은 두번째 데이터프레임의 키 값을 모두 보여준다.\n",
    "pd.merge(df1, df2, how='left')"
   ]
  },
  {
   "cell_type": "code",
   "execution_count": null,
   "metadata": {},
   "outputs": [],
   "source": [
    "pd.merge(df1, df2, how='right')"
   ]
  },
  {
   "cell_type": "markdown",
   "metadata": {},
   "source": [
    "## 5. 단일변수 데이터 보기 \n",
    "특정 데이터(column)의 전반적인 생김새 탐색 / 다변수는 시각화를 통한 분석 필요"
   ]
  },
  {
   "cell_type": "markdown",
   "metadata": {},
   "source": [
    "### 범주형\n",
    "사칙연산/수치 분석에 해당되지 않는 데이터 유형. 성별 등, female = 0, male = 1 으로 정의해도 의미에 변화가 없고 순서가 바뀌어도 됨."
   ]
  },
  {
   "cell_type": "code",
   "execution_count": null,
   "metadata": {},
   "outputs": [],
   "source": [
    "# 관련 라이브러리 불러오기\n",
    "import pandas as pd           #판다스\n",
    "\n",
    "import matplotlib.pylab as plt   #맷플롭립\n",
    "import seaborn as sns          #시본 \n",
    "import numpy as np           #넘파이\n",
    "\n",
    "#데이터 준비 \n",
    "tips = sns.load_dataset(\"tips\")    # 팁 데이터\n",
    "\n",
    "#데이터 보기\n",
    "tips"
   ]
  },
  {
   "cell_type": "code",
   "execution_count": null,
   "metadata": {},
   "outputs": [],
   "source": [
    "#  흡연 범주형 빈도분석\n",
    "# 빈도 분석을 통해 분포 파악을 통한 전체적인 구성 파악\n",
    "tips['smoker'].value_counts()"
   ]
  },
  {
   "cell_type": "code",
   "execution_count": null,
   "metadata": {},
   "outputs": [],
   "source": [
    "# 요일별 범주형 빈도분석\n",
    "tips['day'].value_counts()"
   ]
  },
  {
   "cell_type": "code",
   "execution_count": null,
   "metadata": {},
   "outputs": [],
   "source": [
    "# 시간, 요일별 교차분석 \n",
    "pd.crosstab(tips['time'],tips['day'])"
   ]
  },
  {
   "cell_type": "code",
   "execution_count": null,
   "metadata": {},
   "outputs": [],
   "source": [
    "#여백 또는 누적값cumulatives \n",
    "pd.crosstab(tips['time'],tips['day'], margins=True)"
   ]
  },
  {
   "cell_type": "code",
   "execution_count": null,
   "metadata": {
    "scrolled": true
   },
   "outputs": [],
   "source": [
    "# 전체 빈도 비율 확인 \n",
    "pd.crosstab(tips['time'],tips['day']).apply(lambda r: r/len(tips), axis=1)"
   ]
  },
  {
   "cell_type": "markdown",
   "metadata": {},
   "source": [
    "### 연속형\n",
    "기술통계 : 사칙연산이 가능한 연속형 변수들의 전만적인 이해 도출.\n",
    "데이터를 정리하고 그 내용을 특정하는 몇 가지 대푯값을 도출하여 그래프로 시각화하여 특징을 요약하는 과정"
   ]
  },
  {
   "cell_type": "code",
   "execution_count": null,
   "metadata": {},
   "outputs": [],
   "source": [
    "# tips 데이터 유형 확인 \n",
    "# tips 데이터의 범주형(category) 변수는 sex,smoker,day,time 4개 \n",
    "tips.dtypes"
   ]
  },
  {
   "cell_type": "code",
   "execution_count": null,
   "metadata": {},
   "outputs": [],
   "source": [
    "# tips 데이터 유형 확인 \n",
    "# tips 데이터의 연속형(category) 변수는 total_bill,tip,size 3개\n",
    "tips.dtypes"
   ]
  },
  {
   "cell_type": "code",
   "execution_count": null,
   "metadata": {},
   "outputs": [],
   "source": [
    "tips.describe() # 연속형(숫자형) 데이터에 대한 기술 통계 요약"
   ]
  },
  {
   "cell_type": "code",
   "execution_count": null,
   "metadata": {
    "scrolled": false
   },
   "outputs": [],
   "source": [
    "import pandas as pd\n",
    "#import matplotlib as mpl       #맷플롭립\n",
    "import matplotlib.pyplot as plt\n",
    "\n",
    "df = pd.DataFrame([[500,450,520,610],[690,700,820,900],\n",
    "                   [1100,1030,1200,1380],[1500,1650,1700,1850],\n",
    "                   [1990,2020,2300,2420],[1020,1600,2200,2550]],\n",
    "                  index = [2015, 2016, 2017, 2018, 2019, 2020],\n",
    "                  columns = ['1분기', '2분기', '3분기', '4분기'])\n",
    "\n",
    "\n",
    "df.plot()\n"
   ]
  },
  {
   "cell_type": "code",
   "execution_count": null,
   "metadata": {},
   "outputs": [],
   "source": []
  }
 ],
 "metadata": {
  "kernelspec": {
   "display_name": "Python 3 (ipykernel)",
   "language": "python",
   "name": "python3"
  },
  "language_info": {
   "codemirror_mode": {
    "name": "ipython",
    "version": 3
   },
   "file_extension": ".py",
   "mimetype": "text/x-python",
   "name": "python",
   "nbconvert_exporter": "python",
   "pygments_lexer": "ipython3",
   "version": "3.8.16"
  }
 },
 "nbformat": 4,
 "nbformat_minor": 2
}
