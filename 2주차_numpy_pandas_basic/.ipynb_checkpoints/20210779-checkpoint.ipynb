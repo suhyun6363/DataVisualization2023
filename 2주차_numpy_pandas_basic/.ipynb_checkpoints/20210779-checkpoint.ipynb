{
 "cells": [
  {
   "cell_type": "markdown",
   "id": "e4d5a0fc",
   "metadata": {},
   "source": [
    "1. numpy"
   ]
  },
  {
   "cell_type": "code",
   "execution_count": 5,
   "id": "81acfbc8",
   "metadata": {},
   "outputs": [],
   "source": [
    "#numpy 임포트\n",
    "import numpy as np"
   ]
  },
  {
   "cell_type": "code",
   "execution_count": 6,
   "id": "dddbd30a",
   "metadata": {},
   "outputs": [
    {
     "data": {
      "text/plain": [
       "'1.23.5'"
      ]
     },
     "execution_count": 6,
     "metadata": {},
     "output_type": "execute_result"
    }
   ],
   "source": [
    "#numpy 버전 확인\n",
    "np.__version__"
   ]
  },
  {
   "cell_type": "markdown",
   "id": "e4b1c1c9",
   "metadata": {},
   "source": [
    "*리스트를 이용하여 numpy 생성, np.array()"
   ]
  },
  {
   "cell_type": "code",
   "execution_count": 15,
   "id": "82675e19",
   "metadata": {},
   "outputs": [],
   "source": [
    "ar1 = np.array([1, 2, 3, 4, 5])"
   ]
  },
  {
   "cell_type": "code",
   "execution_count": 16,
   "id": "a9c9c02b",
   "metadata": {},
   "outputs": [
    {
     "data": {
      "text/plain": [
       "array([1, 2, 3, 4, 5])"
      ]
     },
     "execution_count": 16,
     "metadata": {},
     "output_type": "execute_result"
    }
   ],
   "source": [
    "ar1"
   ]
  },
  {
   "cell_type": "code",
   "execution_count": 17,
   "id": "3ff1bdb9",
   "metadata": {},
   "outputs": [
    {
     "data": {
      "text/plain": [
       "numpy.ndarray"
      ]
     },
     "execution_count": 17,
     "metadata": {},
     "output_type": "execute_result"
    }
   ],
   "source": [
    "type(ar1) #객체 a의 자료형 확인"
   ]
  },
  {
   "cell_type": "code",
   "execution_count": 18,
   "id": "55cdc1d9",
   "metadata": {},
   "outputs": [],
   "source": [
    "ar2 = np.array([[10, 20, 30], [40, 50, 60]])"
   ]
  },
  {
   "cell_type": "code",
   "execution_count": 11,
   "id": "f3b219b7",
   "metadata": {
    "scrolled": true
   },
   "outputs": [
    {
     "data": {
      "text/plain": [
       "array([[10, 20, 30],\n",
       "       [40, 50, 60]])"
      ]
     },
     "execution_count": 11,
     "metadata": {},
     "output_type": "execute_result"
    }
   ],
   "source": [
    "ar2"
   ]
  },
  {
   "cell_type": "markdown",
   "id": "8ddc99a9",
   "metadata": {},
   "source": [
    "*값의 범위를 지정하여 numoy 생성. np.arange(시작값, 끝값, 간격)"
   ]
  },
  {
   "cell_type": "code",
   "execution_count": 19,
   "id": "789c0861",
   "metadata": {},
   "outputs": [],
   "source": [
    "ar3 = np.arange(1, 11, 2)"
   ]
  },
  {
   "cell_type": "code",
   "execution_count": 20,
   "id": "67855deb",
   "metadata": {},
   "outputs": [
    {
     "data": {
      "text/plain": [
       "array([1, 3, 5, 7, 9])"
      ]
     },
     "execution_count": 20,
     "metadata": {},
     "output_type": "execute_result"
    }
   ],
   "source": [
    "ar3"
   ]
  },
  {
   "cell_type": "markdown",
   "id": "ec7ac0c1",
   "metadata": {},
   "source": [
    "*구조를 지정하여 numpy 생성\n",
    "np.array().reshape()"
   ]
  },
  {
   "cell_type": "code",
   "execution_count": 21,
   "id": "45167960",
   "metadata": {},
   "outputs": [],
   "source": [
    "ar4 = np.array([1, 2, 3, 4, 5, 6]).reshape((3, 2))"
   ]
  },
  {
   "cell_type": "code",
   "execution_count": 22,
   "id": "29fcb02e",
   "metadata": {},
   "outputs": [
    {
     "data": {
      "text/plain": [
       "array([[1, 2],\n",
       "       [3, 4],\n",
       "       [5, 6]])"
      ]
     },
     "execution_count": 22,
     "metadata": {},
     "output_type": "execute_result"
    }
   ],
   "source": [
    "ar4"
   ]
  },
  {
   "cell_type": "markdown",
   "id": "0672f4e8",
   "metadata": {},
   "source": [
    "*초기값과 구조를 지정하여 numpy 생성"
   ]
  },
  {
   "cell_type": "code",
   "execution_count": 23,
   "id": "8367b194",
   "metadata": {},
   "outputs": [],
   "source": [
    "ar5 = np.zeros((2, 3))         #0으로 초기화하고 2행 3열 구조 생성"
   ]
  },
  {
   "cell_type": "code",
   "execution_count": 24,
   "id": "fe870872",
   "metadata": {},
   "outputs": [
    {
     "data": {
      "text/plain": [
       "array([[0., 0., 0.],\n",
       "       [0., 0., 0.]])"
      ]
     },
     "execution_count": 24,
     "metadata": {},
     "output_type": "execute_result"
    }
   ],
   "source": [
    "ar5"
   ]
  },
  {
   "cell_type": "markdown",
   "id": "a63b821c",
   "metadata": {},
   "source": [
    "*numpy 슬라이싱"
   ]
  },
  {
   "cell_type": "code",
   "execution_count": 25,
   "id": "02fe71b0",
   "metadata": {},
   "outputs": [],
   "source": [
    "ar6 = ar2[0:2, 0:2]"
   ]
  },
  {
   "cell_type": "code",
   "execution_count": 26,
   "id": "eced09af",
   "metadata": {},
   "outputs": [
    {
     "data": {
      "text/plain": [
       "array([[10, 20],\n",
       "       [40, 50]])"
      ]
     },
     "execution_count": 26,
     "metadata": {},
     "output_type": "execute_result"
    }
   ],
   "source": [
    "ar6"
   ]
  },
  {
   "cell_type": "code",
   "execution_count": 27,
   "id": "361c633f",
   "metadata": {},
   "outputs": [],
   "source": [
    "ar7 = ar2[0, :]      #0행의 모든 열을 슬라이싱"
   ]
  },
  {
   "cell_type": "code",
   "execution_count": 28,
   "id": "5bddf19d",
   "metadata": {},
   "outputs": [
    {
     "data": {
      "text/plain": [
       "array([10, 20, 30])"
      ]
     },
     "execution_count": 28,
     "metadata": {},
     "output_type": "execute_result"
    }
   ],
   "source": [
    "ar7"
   ]
  },
  {
   "cell_type": "markdown",
   "id": "3d31a407",
   "metadata": {},
   "source": [
    "*numpy 사칙연산"
   ]
  },
  {
   "cell_type": "code",
   "execution_count": 29,
   "id": "75dabd8f",
   "metadata": {},
   "outputs": [],
   "source": [
    "ar8 = ar1 + 10"
   ]
  },
  {
   "cell_type": "code",
   "execution_count": 30,
   "id": "1b6a5899",
   "metadata": {},
   "outputs": [
    {
     "data": {
      "text/plain": [
       "array([11, 12, 13, 14, 15])"
      ]
     },
     "execution_count": 30,
     "metadata": {},
     "output_type": "execute_result"
    }
   ],
   "source": [
    "ar8"
   ]
  },
  {
   "cell_type": "code",
   "execution_count": 31,
   "id": "bc1b0550",
   "metadata": {},
   "outputs": [
    {
     "data": {
      "text/plain": [
       "array([12, 14, 16, 18, 20])"
      ]
     },
     "execution_count": 31,
     "metadata": {},
     "output_type": "execute_result"
    }
   ],
   "source": [
    "ar1 + ar8"
   ]
  },
  {
   "cell_type": "code",
   "execution_count": 32,
   "id": "a3f618d9",
   "metadata": {},
   "outputs": [
    {
     "data": {
      "text/plain": [
       "array([10, 10, 10, 10, 10])"
      ]
     },
     "execution_count": 32,
     "metadata": {},
     "output_type": "execute_result"
    }
   ],
   "source": [
    "ar8 - ar1"
   ]
  },
  {
   "cell_type": "code",
   "execution_count": 33,
   "id": "9a055f29",
   "metadata": {},
   "outputs": [
    {
     "data": {
      "text/plain": [
       "array([ 2,  4,  6,  8, 10])"
      ]
     },
     "execution_count": 33,
     "metadata": {},
     "output_type": "execute_result"
    }
   ],
   "source": [
    "ar1 * 2"
   ]
  },
  {
   "cell_type": "code",
   "execution_count": 34,
   "id": "3d0e6c0d",
   "metadata": {},
   "outputs": [
    {
     "data": {
      "text/plain": [
       "array([0.5, 1. , 1.5, 2. , 2.5])"
      ]
     },
     "execution_count": 34,
     "metadata": {},
     "output_type": "execute_result"
    }
   ],
   "source": [
    "ar1 / 2"
   ]
  },
  {
   "cell_type": "markdown",
   "id": "c62014d0",
   "metadata": {},
   "source": [
    "*numpy 행렬곱 연산\n",
    "np.dot()"
   ]
  },
  {
   "cell_type": "code",
   "execution_count": 35,
   "id": "2d32047e",
   "metadata": {},
   "outputs": [],
   "source": [
    "ar9 = np.dot(ar2, ar4)"
   ]
  },
  {
   "cell_type": "code",
   "execution_count": 36,
   "id": "03fb1c29",
   "metadata": {},
   "outputs": [
    {
     "data": {
      "text/plain": [
       "array([[220, 280],\n",
       "       [490, 640]])"
      ]
     },
     "execution_count": 36,
     "metadata": {},
     "output_type": "execute_result"
    }
   ],
   "source": [
    "ar9"
   ]
  },
  {
   "cell_type": "markdown",
   "id": "ea5f3ed9",
   "metadata": {},
   "source": [
    "2. pandas"
   ]
  },
  {
   "cell_type": "markdown",
   "id": "e95c14b3",
   "metadata": {},
   "source": [
    "2.1 Series 자료형"
   ]
  },
  {
   "cell_type": "code",
   "execution_count": 37,
   "id": "31381ca5",
   "metadata": {},
   "outputs": [],
   "source": [
    "#pandas 임포트\n",
    "import pandas as pd"
   ]
  },
  {
   "cell_type": "code",
   "execution_count": 38,
   "id": "f699d7e9",
   "metadata": {},
   "outputs": [
    {
     "data": {
      "text/plain": [
       "'1.5.3'"
      ]
     },
     "execution_count": 38,
     "metadata": {},
     "output_type": "execute_result"
    }
   ],
   "source": [
    "#pandas 버전 확인\n",
    "pd.__version__"
   ]
  },
  {
   "cell_type": "markdown",
   "id": "eba3bc55",
   "metadata": {},
   "source": [
    "*Series 생성\n",
    "pd.Series()"
   ]
  },
  {
   "cell_type": "code",
   "execution_count": 39,
   "id": "df5f86c6",
   "metadata": {},
   "outputs": [],
   "source": [
    "data1 = [10, 20, 30, 40, 50]"
   ]
  },
  {
   "cell_type": "code",
   "execution_count": 40,
   "id": "62010061",
   "metadata": {},
   "outputs": [
    {
     "data": {
      "text/plain": [
       "[10, 20, 30, 40, 50]"
      ]
     },
     "execution_count": 40,
     "metadata": {},
     "output_type": "execute_result"
    }
   ],
   "source": [
    "data1"
   ]
  },
  {
   "cell_type": "code",
   "execution_count": 41,
   "id": "891b79e7",
   "metadata": {},
   "outputs": [],
   "source": [
    "data2 = ['1반', '2반', '3반', '4반', '5반']"
   ]
  },
  {
   "cell_type": "code",
   "execution_count": 42,
   "id": "85009361",
   "metadata": {},
   "outputs": [
    {
     "data": {
      "text/plain": [
       "['1반', '2반', '3반', '4반', '5반']"
      ]
     },
     "execution_count": 42,
     "metadata": {},
     "output_type": "execute_result"
    }
   ],
   "source": [
    "data2"
   ]
  },
  {
   "cell_type": "markdown",
   "id": "68ae618e",
   "metadata": {},
   "source": [
    "*리스트를 이용하여 Series 생성"
   ]
  },
  {
   "cell_type": "code",
   "execution_count": 43,
   "id": "d8898f07",
   "metadata": {},
   "outputs": [],
   "source": [
    "sr1 = pd.Series(data1)"
   ]
  },
  {
   "cell_type": "code",
   "execution_count": 44,
   "id": "c8084859",
   "metadata": {},
   "outputs": [
    {
     "data": {
      "text/plain": [
       "0    10\n",
       "1    20\n",
       "2    30\n",
       "3    40\n",
       "4    50\n",
       "dtype: int64"
      ]
     },
     "execution_count": 44,
     "metadata": {},
     "output_type": "execute_result"
    }
   ],
   "source": [
    "sr1"
   ]
  },
  {
   "cell_type": "code",
   "execution_count": 45,
   "id": "27fb91af",
   "metadata": {},
   "outputs": [],
   "source": [
    "sr2 = pd.Series(data2)"
   ]
  },
  {
   "cell_type": "code",
   "execution_count": 46,
   "id": "b4b8beb1",
   "metadata": {},
   "outputs": [
    {
     "data": {
      "text/plain": [
       "0    1반\n",
       "1    2반\n",
       "2    3반\n",
       "3    4반\n",
       "4    5반\n",
       "dtype: object"
      ]
     },
     "execution_count": 46,
     "metadata": {},
     "output_type": "execute_result"
    }
   ],
   "source": [
    "sr2"
   ]
  },
  {
   "cell_type": "markdown",
   "id": "42c6ebf4",
   "metadata": {},
   "source": [
    "*값을 이용하여 Series 생성"
   ]
  },
  {
   "cell_type": "code",
   "execution_count": 47,
   "id": "bd7dabdb",
   "metadata": {},
   "outputs": [],
   "source": [
    "sr3 = pd.Series([101, 102, 103, 104, 105])"
   ]
  },
  {
   "cell_type": "code",
   "execution_count": 48,
   "id": "3d3d02af",
   "metadata": {},
   "outputs": [
    {
     "data": {
      "text/plain": [
       "0    101\n",
       "1    102\n",
       "2    103\n",
       "3    104\n",
       "4    105\n",
       "dtype: int64"
      ]
     },
     "execution_count": 48,
     "metadata": {},
     "output_type": "execute_result"
    }
   ],
   "source": [
    "sr3"
   ]
  },
  {
   "cell_type": "code",
   "execution_count": 49,
   "id": "c4834d1e",
   "metadata": {},
   "outputs": [],
   "source": [
    "sr4 = pd.Series(['월', '화', '수', '목', '금'])"
   ]
  },
  {
   "cell_type": "code",
   "execution_count": 50,
   "id": "05d3fde9",
   "metadata": {},
   "outputs": [
    {
     "data": {
      "text/plain": [
       "0    월\n",
       "1    화\n",
       "2    수\n",
       "3    목\n",
       "4    금\n",
       "dtype: object"
      ]
     },
     "execution_count": 50,
     "metadata": {},
     "output_type": "execute_result"
    }
   ],
   "source": [
    "sr4"
   ]
  },
  {
   "cell_type": "markdown",
   "id": "17d237d9",
   "metadata": {},
   "source": [
    "*인덱스를 지정하여 Series 생성"
   ]
  },
  {
   "cell_type": "code",
   "execution_count": 51,
   "id": "c31166b1",
   "metadata": {},
   "outputs": [],
   "source": [
    "sr5 = pd.Series(data1, index = [1000, 1001, 1002, 1003, 1004])"
   ]
  },
  {
   "cell_type": "code",
   "execution_count": 52,
   "id": "cb6be507",
   "metadata": {},
   "outputs": [
    {
     "data": {
      "text/plain": [
       "1000    10\n",
       "1001    20\n",
       "1002    30\n",
       "1003    40\n",
       "1004    50\n",
       "dtype: int64"
      ]
     },
     "execution_count": 52,
     "metadata": {},
     "output_type": "execute_result"
    }
   ],
   "source": [
    "sr5"
   ]
  },
  {
   "cell_type": "code",
   "execution_count": 53,
   "id": "0ff0d649",
   "metadata": {},
   "outputs": [],
   "source": [
    "sr6 = pd.Series(data1, index = data2)"
   ]
  },
  {
   "cell_type": "code",
   "execution_count": 54,
   "id": "a5d24792",
   "metadata": {},
   "outputs": [
    {
     "data": {
      "text/plain": [
       "1반    10\n",
       "2반    20\n",
       "3반    30\n",
       "4반    40\n",
       "5반    50\n",
       "dtype: int64"
      ]
     },
     "execution_count": 54,
     "metadata": {},
     "output_type": "execute_result"
    }
   ],
   "source": [
    "sr6"
   ]
  },
  {
   "cell_type": "code",
   "execution_count": 55,
   "id": "39036b2a",
   "metadata": {},
   "outputs": [],
   "source": [
    "sr7 = pd.Series(data2, index = data1)"
   ]
  },
  {
   "cell_type": "code",
   "execution_count": 56,
   "id": "c3d282f0",
   "metadata": {},
   "outputs": [
    {
     "data": {
      "text/plain": [
       "10    1반\n",
       "20    2반\n",
       "30    3반\n",
       "40    4반\n",
       "50    5반\n",
       "dtype: object"
      ]
     },
     "execution_count": 56,
     "metadata": {},
     "output_type": "execute_result"
    }
   ],
   "source": [
    "sr7"
   ]
  },
  {
   "cell_type": "code",
   "execution_count": 57,
   "id": "590705f9",
   "metadata": {},
   "outputs": [],
   "source": [
    "sr8 = pd.Series(data2, index = sr4)"
   ]
  },
  {
   "cell_type": "code",
   "execution_count": 58,
   "id": "43b1557e",
   "metadata": {},
   "outputs": [
    {
     "data": {
      "text/plain": [
       "월    1반\n",
       "화    2반\n",
       "수    3반\n",
       "목    4반\n",
       "금    5반\n",
       "dtype: object"
      ]
     },
     "execution_count": 58,
     "metadata": {},
     "output_type": "execute_result"
    }
   ],
   "source": [
    "sr8"
   ]
  },
  {
   "cell_type": "markdown",
   "id": "40829464",
   "metadata": {},
   "source": [
    "*Series 인덱싱"
   ]
  },
  {
   "cell_type": "code",
   "execution_count": 59,
   "id": "134793ec",
   "metadata": {},
   "outputs": [
    {
     "data": {
      "text/plain": [
       "'3반'"
      ]
     },
     "execution_count": 59,
     "metadata": {},
     "output_type": "execute_result"
    }
   ],
   "source": [
    "sr8[2]"
   ]
  },
  {
   "cell_type": "code",
   "execution_count": 60,
   "id": "484e4619",
   "metadata": {},
   "outputs": [
    {
     "data": {
      "text/plain": [
       "'3반'"
      ]
     },
     "execution_count": 60,
     "metadata": {},
     "output_type": "execute_result"
    }
   ],
   "source": [
    "sr8['수']"
   ]
  },
  {
   "cell_type": "code",
   "execution_count": 61,
   "id": "268a4292",
   "metadata": {},
   "outputs": [
    {
     "data": {
      "text/plain": [
       "'5반'"
      ]
     },
     "execution_count": 61,
     "metadata": {},
     "output_type": "execute_result"
    }
   ],
   "source": [
    "sr8[-1]"
   ]
  },
  {
   "cell_type": "markdown",
   "id": "566b2c99",
   "metadata": {},
   "source": [
    "*Series 슬라이싱"
   ]
  },
  {
   "cell_type": "code",
   "execution_count": 62,
   "id": "da5c69d7",
   "metadata": {},
   "outputs": [
    {
     "data": {
      "text/plain": [
       "월    1반\n",
       "화    2반\n",
       "수    3반\n",
       "목    4반\n",
       "dtype: object"
      ]
     },
     "execution_count": 62,
     "metadata": {},
     "output_type": "execute_result"
    }
   ],
   "source": [
    "sr8[0:4]"
   ]
  },
  {
   "cell_type": "markdown",
   "id": "5b8cf3f9",
   "metadata": {},
   "source": [
    "*Series 인덱스 구하기"
   ]
  },
  {
   "cell_type": "code",
   "execution_count": 63,
   "id": "b1a59cfe",
   "metadata": {},
   "outputs": [
    {
     "data": {
      "text/plain": [
       "Index(['월', '화', '수', '목', '금'], dtype='object')"
      ]
     },
     "execution_count": 63,
     "metadata": {},
     "output_type": "execute_result"
    }
   ],
   "source": [
    "sr8.index"
   ]
  },
  {
   "cell_type": "markdown",
   "id": "30b254d3",
   "metadata": {},
   "source": [
    "*Series 값 구하기"
   ]
  },
  {
   "cell_type": "code",
   "execution_count": 64,
   "id": "b8f2ef5d",
   "metadata": {},
   "outputs": [
    {
     "data": {
      "text/plain": [
       "array(['1반', '2반', '3반', '4반', '5반'], dtype=object)"
      ]
     },
     "execution_count": 64,
     "metadata": {},
     "output_type": "execute_result"
    }
   ],
   "source": [
    "sr8.values"
   ]
  },
  {
   "cell_type": "markdown",
   "id": "ebe58350",
   "metadata": {},
   "source": [
    "*Series 원소가 숫자이면 덧셈 수행"
   ]
  },
  {
   "cell_type": "code",
   "execution_count": 65,
   "id": "cfaf0eb2",
   "metadata": {},
   "outputs": [
    {
     "data": {
      "text/plain": [
       "0    111\n",
       "1    122\n",
       "2    133\n",
       "3    144\n",
       "4    155\n",
       "dtype: int64"
      ]
     },
     "execution_count": 65,
     "metadata": {},
     "output_type": "execute_result"
    }
   ],
   "source": [
    "sr1 + sr3"
   ]
  },
  {
   "cell_type": "markdown",
   "id": "88fde21c",
   "metadata": {},
   "source": [
    "*Series 원소가 문자열이면 문자열 연결 수행"
   ]
  },
  {
   "cell_type": "code",
   "execution_count": 66,
   "id": "eeb38b6c",
   "metadata": {},
   "outputs": [
    {
     "data": {
      "text/plain": [
       "0    월1반\n",
       "1    화2반\n",
       "2    수3반\n",
       "3    목4반\n",
       "4    금5반\n",
       "dtype: object"
      ]
     },
     "execution_count": 66,
     "metadata": {},
     "output_type": "execute_result"
    }
   ],
   "source": [
    "sr4 + sr2"
   ]
  },
  {
   "cell_type": "markdown",
   "id": "eccdfccb",
   "metadata": {},
   "source": [
    "2.2 DataFrame 자료형"
   ]
  },
  {
   "cell_type": "markdown",
   "id": "b97bd92e",
   "metadata": {},
   "source": [
    "*pd.DataFrame()"
   ]
  },
  {
   "cell_type": "code",
   "execution_count": 67,
   "id": "dd92b70c",
   "metadata": {},
   "outputs": [],
   "source": [
    "data_dic = {\n",
    "    'year': [2018, 2019, 2020],\n",
    "    'sales': [350, 480, 1099]\n",
    "}"
   ]
  },
  {
   "cell_type": "code",
   "execution_count": 68,
   "id": "1fa943e8",
   "metadata": {},
   "outputs": [
    {
     "data": {
      "text/plain": [
       "{'year': [2018, 2019, 2020], 'sales': [350, 480, 1099]}"
      ]
     },
     "execution_count": 68,
     "metadata": {},
     "output_type": "execute_result"
    }
   ],
   "source": [
    "data_dic"
   ]
  },
  {
   "cell_type": "markdown",
   "id": "064fd6fa",
   "metadata": {},
   "source": [
    "*딕셔너리를 이용하여 DataFrame 생성"
   ]
  },
  {
   "cell_type": "code",
   "execution_count": 69,
   "id": "88466f40",
   "metadata": {},
   "outputs": [],
   "source": [
    "df1 = pd.DataFrame(data_dic)"
   ]
  },
  {
   "cell_type": "code",
   "execution_count": 70,
   "id": "549b4524",
   "metadata": {},
   "outputs": [
    {
     "data": {
      "text/html": [
       "<div>\n",
       "<style scoped>\n",
       "    .dataframe tbody tr th:only-of-type {\n",
       "        vertical-align: middle;\n",
       "    }\n",
       "\n",
       "    .dataframe tbody tr th {\n",
       "        vertical-align: top;\n",
       "    }\n",
       "\n",
       "    .dataframe thead th {\n",
       "        text-align: right;\n",
       "    }\n",
       "</style>\n",
       "<table border=\"1\" class=\"dataframe\">\n",
       "  <thead>\n",
       "    <tr style=\"text-align: right;\">\n",
       "      <th></th>\n",
       "      <th>year</th>\n",
       "      <th>sales</th>\n",
       "    </tr>\n",
       "  </thead>\n",
       "  <tbody>\n",
       "    <tr>\n",
       "      <th>0</th>\n",
       "      <td>2018</td>\n",
       "      <td>350</td>\n",
       "    </tr>\n",
       "    <tr>\n",
       "      <th>1</th>\n",
       "      <td>2019</td>\n",
       "      <td>480</td>\n",
       "    </tr>\n",
       "    <tr>\n",
       "      <th>2</th>\n",
       "      <td>2020</td>\n",
       "      <td>1099</td>\n",
       "    </tr>\n",
       "  </tbody>\n",
       "</table>\n",
       "</div>"
      ],
      "text/plain": [
       "   year  sales\n",
       "0  2018    350\n",
       "1  2019    480\n",
       "2  2020   1099"
      ]
     },
     "execution_count": 70,
     "metadata": {},
     "output_type": "execute_result"
    }
   ],
   "source": [
    "df1"
   ]
  },
  {
   "cell_type": "markdown",
   "id": "6483b457",
   "metadata": {},
   "source": [
    "*리스트를 이용하여 DataFrame 생성 1"
   ]
  },
  {
   "cell_type": "code",
   "execution_count": 71,
   "id": "c06bc298",
   "metadata": {},
   "outputs": [],
   "source": [
    "df2 = pd.DataFrame([[89.2, 92.5, 90.8], [92.8, 89.9, 95.2]], \n",
    "                   index = ['중간고사', '기말고사'], columns = data2[0:3])"
   ]
  },
  {
   "cell_type": "code",
   "execution_count": 72,
   "id": "36bc80f5",
   "metadata": {},
   "outputs": [
    {
     "data": {
      "text/html": [
       "<div>\n",
       "<style scoped>\n",
       "    .dataframe tbody tr th:only-of-type {\n",
       "        vertical-align: middle;\n",
       "    }\n",
       "\n",
       "    .dataframe tbody tr th {\n",
       "        vertical-align: top;\n",
       "    }\n",
       "\n",
       "    .dataframe thead th {\n",
       "        text-align: right;\n",
       "    }\n",
       "</style>\n",
       "<table border=\"1\" class=\"dataframe\">\n",
       "  <thead>\n",
       "    <tr style=\"text-align: right;\">\n",
       "      <th></th>\n",
       "      <th>1반</th>\n",
       "      <th>2반</th>\n",
       "      <th>3반</th>\n",
       "    </tr>\n",
       "  </thead>\n",
       "  <tbody>\n",
       "    <tr>\n",
       "      <th>중간고사</th>\n",
       "      <td>89.2</td>\n",
       "      <td>92.5</td>\n",
       "      <td>90.8</td>\n",
       "    </tr>\n",
       "    <tr>\n",
       "      <th>기말고사</th>\n",
       "      <td>92.8</td>\n",
       "      <td>89.9</td>\n",
       "      <td>95.2</td>\n",
       "    </tr>\n",
       "  </tbody>\n",
       "</table>\n",
       "</div>"
      ],
      "text/plain": [
       "        1반    2반    3반\n",
       "중간고사  89.2  92.5  90.8\n",
       "기말고사  92.8  89.9  95.2"
      ]
     },
     "execution_count": 72,
     "metadata": {},
     "output_type": "execute_result"
    }
   ],
   "source": [
    "df2"
   ]
  },
  {
   "cell_type": "markdown",
   "id": "687405c0",
   "metadata": {},
   "source": [
    "*리스트를 이용하여 DataFrame 생성 2"
   ]
  },
  {
   "cell_type": "code",
   "execution_count": 74,
   "id": "6bd73a98",
   "metadata": {},
   "outputs": [],
   "source": [
    "data_df = [['20201101','Hong','90','95'], ['20201102', 'Kim','93', '94'], ['20201103','Lee','87','97']]"
   ]
  },
  {
   "cell_type": "code",
   "execution_count": 75,
   "id": "e1a6f427",
   "metadata": {},
   "outputs": [],
   "source": [
    "df3 = pd.DataFrame(data_df)"
   ]
  },
  {
   "cell_type": "code",
   "execution_count": 76,
   "id": "a3b97bba",
   "metadata": {},
   "outputs": [
    {
     "data": {
      "text/html": [
       "<div>\n",
       "<style scoped>\n",
       "    .dataframe tbody tr th:only-of-type {\n",
       "        vertical-align: middle;\n",
       "    }\n",
       "\n",
       "    .dataframe tbody tr th {\n",
       "        vertical-align: top;\n",
       "    }\n",
       "\n",
       "    .dataframe thead th {\n",
       "        text-align: right;\n",
       "    }\n",
       "</style>\n",
       "<table border=\"1\" class=\"dataframe\">\n",
       "  <thead>\n",
       "    <tr style=\"text-align: right;\">\n",
       "      <th></th>\n",
       "      <th>0</th>\n",
       "      <th>1</th>\n",
       "      <th>2</th>\n",
       "      <th>3</th>\n",
       "    </tr>\n",
       "  </thead>\n",
       "  <tbody>\n",
       "    <tr>\n",
       "      <th>0</th>\n",
       "      <td>20201101</td>\n",
       "      <td>Hong</td>\n",
       "      <td>90</td>\n",
       "      <td>95</td>\n",
       "    </tr>\n",
       "    <tr>\n",
       "      <th>1</th>\n",
       "      <td>20201102</td>\n",
       "      <td>Kim</td>\n",
       "      <td>93</td>\n",
       "      <td>94</td>\n",
       "    </tr>\n",
       "    <tr>\n",
       "      <th>2</th>\n",
       "      <td>20201103</td>\n",
       "      <td>Lee</td>\n",
       "      <td>87</td>\n",
       "      <td>97</td>\n",
       "    </tr>\n",
       "  </tbody>\n",
       "</table>\n",
       "</div>"
      ],
      "text/plain": [
       "          0     1   2   3\n",
       "0  20201101  Hong  90  95\n",
       "1  20201102   Kim  93  94\n",
       "2  20201103   Lee  87  97"
      ]
     },
     "execution_count": 76,
     "metadata": {},
     "output_type": "execute_result"
    }
   ],
   "source": [
    "df3"
   ]
  },
  {
   "cell_type": "markdown",
   "id": "e5ce1bab",
   "metadata": {},
   "source": [
    "*DataFrame 열 이름 설정"
   ]
  },
  {
   "cell_type": "code",
   "execution_count": 77,
   "id": "380778bc",
   "metadata": {},
   "outputs": [],
   "source": [
    "df3.columns = ['학번', '이름', '중간고사', '기말고사']"
   ]
  },
  {
   "cell_type": "code",
   "execution_count": 78,
   "id": "955c7503",
   "metadata": {},
   "outputs": [
    {
     "data": {
      "text/html": [
       "<div>\n",
       "<style scoped>\n",
       "    .dataframe tbody tr th:only-of-type {\n",
       "        vertical-align: middle;\n",
       "    }\n",
       "\n",
       "    .dataframe tbody tr th {\n",
       "        vertical-align: top;\n",
       "    }\n",
       "\n",
       "    .dataframe thead th {\n",
       "        text-align: right;\n",
       "    }\n",
       "</style>\n",
       "<table border=\"1\" class=\"dataframe\">\n",
       "  <thead>\n",
       "    <tr style=\"text-align: right;\">\n",
       "      <th></th>\n",
       "      <th>학번</th>\n",
       "      <th>이름</th>\n",
       "      <th>중간고사</th>\n",
       "      <th>기말고사</th>\n",
       "    </tr>\n",
       "  </thead>\n",
       "  <tbody>\n",
       "    <tr>\n",
       "      <th>0</th>\n",
       "      <td>20201101</td>\n",
       "      <td>Hong</td>\n",
       "      <td>90</td>\n",
       "      <td>95</td>\n",
       "    </tr>\n",
       "    <tr>\n",
       "      <th>1</th>\n",
       "      <td>20201102</td>\n",
       "      <td>Kim</td>\n",
       "      <td>93</td>\n",
       "      <td>94</td>\n",
       "    </tr>\n",
       "    <tr>\n",
       "      <th>2</th>\n",
       "      <td>20201103</td>\n",
       "      <td>Lee</td>\n",
       "      <td>87</td>\n",
       "      <td>97</td>\n",
       "    </tr>\n",
       "  </tbody>\n",
       "</table>\n",
       "</div>"
      ],
      "text/plain": [
       "         학번    이름 중간고사 기말고사\n",
       "0  20201101  Hong   90   95\n",
       "1  20201102   Kim   93   94\n",
       "2  20201103   Lee   87   97"
      ]
     },
     "execution_count": 78,
     "metadata": {},
     "output_type": "execute_result"
    }
   ],
   "source": [
    "df3"
   ]
  },
  {
   "cell_type": "markdown",
   "id": "3896ee71",
   "metadata": {},
   "source": [
    "*DataFrame 조회"
   ]
  },
  {
   "cell_type": "code",
   "execution_count": 79,
   "id": "78676c4f",
   "metadata": {},
   "outputs": [
    {
     "data": {
      "text/html": [
       "<div>\n",
       "<style scoped>\n",
       "    .dataframe tbody tr th:only-of-type {\n",
       "        vertical-align: middle;\n",
       "    }\n",
       "\n",
       "    .dataframe tbody tr th {\n",
       "        vertical-align: top;\n",
       "    }\n",
       "\n",
       "    .dataframe thead th {\n",
       "        text-align: right;\n",
       "    }\n",
       "</style>\n",
       "<table border=\"1\" class=\"dataframe\">\n",
       "  <thead>\n",
       "    <tr style=\"text-align: right;\">\n",
       "      <th></th>\n",
       "      <th>학번</th>\n",
       "      <th>이름</th>\n",
       "      <th>중간고사</th>\n",
       "      <th>기말고사</th>\n",
       "    </tr>\n",
       "  </thead>\n",
       "  <tbody>\n",
       "    <tr>\n",
       "      <th>0</th>\n",
       "      <td>20201101</td>\n",
       "      <td>Hong</td>\n",
       "      <td>90</td>\n",
       "      <td>95</td>\n",
       "    </tr>\n",
       "    <tr>\n",
       "      <th>1</th>\n",
       "      <td>20201102</td>\n",
       "      <td>Kim</td>\n",
       "      <td>93</td>\n",
       "      <td>94</td>\n",
       "    </tr>\n",
       "  </tbody>\n",
       "</table>\n",
       "</div>"
      ],
      "text/plain": [
       "         학번    이름 중간고사 기말고사\n",
       "0  20201101  Hong   90   95\n",
       "1  20201102   Kim   93   94"
      ]
     },
     "execution_count": 79,
     "metadata": {},
     "output_type": "execute_result"
    }
   ],
   "source": [
    "df3.head(2)      #위에서부터 2개 행 조회"
   ]
  },
  {
   "cell_type": "code",
   "execution_count": 80,
   "id": "e455f306",
   "metadata": {},
   "outputs": [
    {
     "data": {
      "text/html": [
       "<div>\n",
       "<style scoped>\n",
       "    .dataframe tbody tr th:only-of-type {\n",
       "        vertical-align: middle;\n",
       "    }\n",
       "\n",
       "    .dataframe tbody tr th {\n",
       "        vertical-align: top;\n",
       "    }\n",
       "\n",
       "    .dataframe thead th {\n",
       "        text-align: right;\n",
       "    }\n",
       "</style>\n",
       "<table border=\"1\" class=\"dataframe\">\n",
       "  <thead>\n",
       "    <tr style=\"text-align: right;\">\n",
       "      <th></th>\n",
       "      <th>학번</th>\n",
       "      <th>이름</th>\n",
       "      <th>중간고사</th>\n",
       "      <th>기말고사</th>\n",
       "    </tr>\n",
       "  </thead>\n",
       "  <tbody>\n",
       "    <tr>\n",
       "      <th>1</th>\n",
       "      <td>20201102</td>\n",
       "      <td>Kim</td>\n",
       "      <td>93</td>\n",
       "      <td>94</td>\n",
       "    </tr>\n",
       "    <tr>\n",
       "      <th>2</th>\n",
       "      <td>20201103</td>\n",
       "      <td>Lee</td>\n",
       "      <td>87</td>\n",
       "      <td>97</td>\n",
       "    </tr>\n",
       "  </tbody>\n",
       "</table>\n",
       "</div>"
      ],
      "text/plain": [
       "         학번   이름 중간고사 기말고사\n",
       "1  20201102  Kim   93   94\n",
       "2  20201103  Lee   87   97"
      ]
     },
     "execution_count": 80,
     "metadata": {},
     "output_type": "execute_result"
    }
   ],
   "source": [
    "df3.tail(2)      #아래에서부터 2개 행 조회"
   ]
  },
  {
   "cell_type": "code",
   "execution_count": 81,
   "id": "0af4c6c0",
   "metadata": {},
   "outputs": [
    {
     "data": {
      "text/plain": [
       "0    Hong\n",
       "1     Kim\n",
       "2     Lee\n",
       "Name: 이름, dtype: object"
      ]
     },
     "execution_count": 81,
     "metadata": {},
     "output_type": "execute_result"
    }
   ],
   "source": [
    "df3['이름']    #'이름' 컬럼 조회"
   ]
  },
  {
   "cell_type": "markdown",
   "id": "87b2abea",
   "metadata": {},
   "source": [
    "*CSV 파일로 저장"
   ]
  },
  {
   "cell_type": "code",
   "execution_count": 84,
   "id": "ac816e1c",
   "metadata": {},
   "outputs": [],
   "source": [
    "df3.to_csv(r'C:\\Users\\suhyu\\My_Python\\score.scv', header= 'False')"
   ]
  },
  {
   "cell_type": "code",
   "execution_count": 88,
   "id": "4b365bc7",
   "metadata": {},
   "outputs": [],
   "source": [
    "df4 = pd.read_csv(r'C:\\Users\\suhyu\\My_Python\\score.scv', encoding = 'utf-8', index_col=0, engine='python')\n",
    "#C드라이브의 Users 폴더에 만든 My_Python 폴더에 CSV 파일을 저장하고 불러오도록 경로 설정"
   ]
  },
  {
   "cell_type": "code",
   "execution_count": 89,
   "id": "39e9cf64",
   "metadata": {},
   "outputs": [
    {
     "data": {
      "text/html": [
       "<div>\n",
       "<style scoped>\n",
       "    .dataframe tbody tr th:only-of-type {\n",
       "        vertical-align: middle;\n",
       "    }\n",
       "\n",
       "    .dataframe tbody tr th {\n",
       "        vertical-align: top;\n",
       "    }\n",
       "\n",
       "    .dataframe thead th {\n",
       "        text-align: right;\n",
       "    }\n",
       "</style>\n",
       "<table border=\"1\" class=\"dataframe\">\n",
       "  <thead>\n",
       "    <tr style=\"text-align: right;\">\n",
       "      <th></th>\n",
       "      <th>학번</th>\n",
       "      <th>이름</th>\n",
       "      <th>중간고사</th>\n",
       "      <th>기말고사</th>\n",
       "    </tr>\n",
       "  </thead>\n",
       "  <tbody>\n",
       "    <tr>\n",
       "      <th>0</th>\n",
       "      <td>20201101</td>\n",
       "      <td>Hong</td>\n",
       "      <td>90</td>\n",
       "      <td>95</td>\n",
       "    </tr>\n",
       "    <tr>\n",
       "      <th>1</th>\n",
       "      <td>20201102</td>\n",
       "      <td>Kim</td>\n",
       "      <td>93</td>\n",
       "      <td>94</td>\n",
       "    </tr>\n",
       "    <tr>\n",
       "      <th>2</th>\n",
       "      <td>20201103</td>\n",
       "      <td>Lee</td>\n",
       "      <td>87</td>\n",
       "      <td>97</td>\n",
       "    </tr>\n",
       "  </tbody>\n",
       "</table>\n",
       "</div>"
      ],
      "text/plain": [
       "         학번    이름  중간고사  기말고사\n",
       "0  20201101  Hong    90    95\n",
       "1  20201102   Kim    93    94\n",
       "2  20201103   Lee    87    97"
      ]
     },
     "execution_count": 89,
     "metadata": {},
     "output_type": "execute_result"
    }
   ],
   "source": [
    "df4"
   ]
  },
  {
   "cell_type": "markdown",
   "id": "6281101d",
   "metadata": {},
   "source": [
    "3. matplotlib"
   ]
  },
  {
   "cell_type": "code",
   "execution_count": 90,
   "id": "8dd3c402",
   "metadata": {},
   "outputs": [],
   "source": [
    "#matplotlib 임포트\n",
    "import matplotlib"
   ]
  },
  {
   "cell_type": "code",
   "execution_count": 91,
   "id": "08f9ceb1",
   "metadata": {},
   "outputs": [
    {
     "data": {
      "text/plain": [
       "'3.7.1'"
      ]
     },
     "execution_count": 91,
     "metadata": {},
     "output_type": "execute_result"
    }
   ],
   "source": [
    "#matplotlib 버전 확인\n",
    "matplotlib.__version__"
   ]
  },
  {
   "cell_type": "code",
   "execution_count": 92,
   "id": "cb0588ed",
   "metadata": {},
   "outputs": [],
   "source": [
    "#pyplot 모듈 임포트\n",
    "import matplotlib.pyplot as plt"
   ]
  },
  {
   "cell_type": "markdown",
   "id": "ef5c0339",
   "metadata": {},
   "source": [
    "라인플롯 차트 그리기"
   ]
  },
  {
   "cell_type": "markdown",
   "id": "6ee8383a",
   "metadata": {},
   "source": [
    "1.데이터 준비"
   ]
  },
  {
   "cell_type": "code",
   "execution_count": 94,
   "id": "6dc40a36",
   "metadata": {},
   "outputs": [],
   "source": [
    "x = [2016, 2017, 2018, 2019, 2020]\n",
    "y = [350, 410, 520, 695, 543]"
   ]
  },
  {
   "cell_type": "markdown",
   "id": "57454da3",
   "metadata": {},
   "source": [
    "2. x축과 y축 데이터를 지정하여 라인플롯 생성 , plt.plot(x,y)"
   ]
  },
  {
   "cell_type": "code",
   "execution_count": 95,
   "id": "506eab16",
   "metadata": {},
   "outputs": [
    {
     "data": {
      "text/plain": [
       "[<matplotlib.lines.Line2D at 0x1da8e297940>]"
      ]
     },
     "execution_count": 95,
     "metadata": {},
     "output_type": "execute_result"
    },
    {
     "data": {
      "image/png": "[encoded data removed]",
      "text/plain": [
       "<Figure size 640x480 with 1 Axes>"
      ]
     },
     "metadata": {},
     "output_type": "display_data"
    }
   ],
   "source": [
    "plt.plot(x, y)"
   ]
  },
  {
   "cell_type": "markdown",
   "id": "6a09cfde",
   "metadata": {},
   "source": [
    "3. 차트 제목 설정 , plt.title()"
   ]
  },
  {
   "cell_type": "code",
   "execution_count": 83,
   "id": "c6b42d7d",
   "metadata": {},
   "outputs": [
    {
     "data": {
      "text/plain": [
       "Text(0.5, 1.0, 'Annual sales')"
      ]
     },
     "execution_count": 83,
     "metadata": {},
     "output_type": "execute_result"
    },
    {
     "data": {
      "image/png": "[encoded data removed]",
      "text/plain": [
       "<Figure size 640x480 with 1 Axes>"
      ]
     },
     "metadata": {},
     "output_type": "display_data"
    }
   ],
   "source": [
    "plt.title('Annual sales')"
   ]
  },
  {
   "cell_type": "markdown",
   "id": "e40a7b7c",
   "metadata": {},
   "source": [
    "4. x축 레이블 설정 , plt.xlabel()"
   ]
  },
  {
   "cell_type": "code",
   "execution_count": 84,
   "id": "7489cdad",
   "metadata": {},
   "outputs": [
    {
     "data": {
      "text/plain": [
       "Text(0.5, 0, 'years')"
      ]
     },
     "execution_count": 84,
     "metadata": {},
     "output_type": "execute_result"
    },
    {
     "data": {
      "image/png": "[encoded data removed]",
      "text/plain": [
       "<Figure size 640x480 with 1 Axes>"
      ]
     },
     "metadata": {},
     "output_type": "display_data"
    }
   ],
   "source": [
    "plt.xlabel('years')"
   ]
  },
  {
   "cell_type": "markdown",
   "id": "2aaad344",
   "metadata": {},
   "source": [
    "5. y축 레이블 설정 , plt.ylabel()"
   ]
  },
  {
   "cell_type": "code",
   "execution_count": 85,
   "id": "4af5f146",
   "metadata": {},
   "outputs": [
    {
     "data": {
      "text/plain": [
       "Text(0, 0.5, 'sales')"
      ]
     },
     "execution_count": 85,
     "metadata": {},
     "output_type": "execute_result"
    },
    {
     "data": {
      "image/png": "[encoded data removed]",
      "text/plain": [
       "<Figure size 640x480 with 1 Axes>"
      ]
     },
     "metadata": {},
     "output_type": "display_data"
    }
   ],
   "source": [
    "plt.ylabel('sales')"
   ]
  },
  {
   "cell_type": "markdown",
   "id": "f28c3339",
   "metadata": {},
   "source": [
    "6. 라인플롯 표시 , plt.show()"
   ]
  },
  {
   "cell_type": "code",
   "execution_count": 96,
   "id": "5a92d077",
   "metadata": {},
   "outputs": [],
   "source": [
    "plt.show()"
   ]
  },
  {
   "cell_type": "markdown",
   "id": "3f264e85",
   "metadata": {},
   "source": [
    "바 차트 그리기"
   ]
  },
  {
   "cell_type": "markdown",
   "id": "ef30b4ca",
   "metadata": {},
   "source": [
    "1. 데이터 준비"
   ]
  },
  {
   "cell_type": "code",
   "execution_count": 98,
   "id": "fadbf28d",
   "metadata": {},
   "outputs": [],
   "source": [
    "y1 = [350, 410, 520, 695]\n",
    "y2 = [200, 250, 385, 350]\n",
    "x = range(len(y1))"
   ]
  },
  {
   "cell_type": "markdown",
   "id": "9585bd53",
   "metadata": {},
   "source": [
    "2. x축과 y축 데이터를 지정하여 바 차트 생성 , plt.bar(x,y)"
   ]
  },
  {
   "cell_type": "code",
   "execution_count": 99,
   "id": "9ccfd0d8",
   "metadata": {},
   "outputs": [
    {
     "data": {
      "text/plain": [
       "<BarContainer object of 4 artists>"
      ]
     },
     "execution_count": 99,
     "metadata": {},
     "output_type": "execute_result"
    },
    {
     "data": {
      "image/png": "[encoded data removed]",
      "text/plain": [
       "<Figure size 640x480 with 1 Axes>"
      ]
     },
     "metadata": {},
     "output_type": "display_data"
    }
   ],
   "source": [
    "plt.bar(x, y1, width = 0.7, color = \"blue\")"
   ]
  },
  {
   "cell_type": "code",
   "execution_count": 100,
   "id": "13a4edd7",
   "metadata": {},
   "outputs": [
    {
     "data": {
      "text/plain": [
       "<BarContainer object of 4 artists>"
      ]
     },
     "execution_count": 100,
     "metadata": {},
     "output_type": "execute_result"
    },
    {
     "data": {
      "image/png": "[encoded data removed]",
      "text/plain": [
       "<Figure size 640x480 with 1 Axes>"
      ]
     },
     "metadata": {},
     "output_type": "display_data"
    }
   ],
   "source": [
    "plt.bar(x, y2, width = 0.7, color = \"red\")"
   ]
  },
  {
   "cell_type": "markdown",
   "id": "e6033bc3",
   "metadata": {},
   "source": [
    "3. 차트 제목 설정 , plt.title()"
   ]
  },
  {
   "cell_type": "code",
   "execution_count": 90,
   "id": "5872ef87",
   "metadata": {},
   "outputs": [
    {
     "data": {
      "text/plain": [
       "Text(0.5, 1.0, 'Quarterly Sales')"
      ]
     },
     "execution_count": 90,
     "metadata": {},
     "output_type": "execute_result"
    },
    {
     "data": {
      "image/png": "[encoded data removed]",
      "text/plain": [
       "<Figure size 640x480 with 1 Axes>"
      ]
     },
     "metadata": {},
     "output_type": "display_data"
    }
   ],
   "source": [
    "plt.title('Quarterly Sales')"
   ]
  },
  {
   "cell_type": "markdown",
   "id": "60f8d7d0",
   "metadata": {},
   "source": [
    "4. x축 레이블 설정 , plt.xlabel()"
   ]
  },
  {
   "cell_type": "code",
   "execution_count": 91,
   "id": "c1560f8a",
   "metadata": {},
   "outputs": [
    {
     "data": {
      "text/plain": [
       "Text(0.5, 0, 'Quarters')"
      ]
     },
     "execution_count": 91,
     "metadata": {},
     "output_type": "execute_result"
    },
    {
     "data": {
      "image/png": "[encoded data removed]",
      "text/plain": [
       "<Figure size 640x480 with 1 Axes>"
      ]
     },
     "metadata": {},
     "output_type": "display_data"
    }
   ],
   "source": [
    "plt.xlabel('Quarters')"
   ]
  },
  {
   "cell_type": "markdown",
   "id": "d44b7f14",
   "metadata": {},
   "source": [
    "5. y축 레이블 설정 , plt.ylabel()"
   ]
  },
  {
   "cell_type": "code",
   "execution_count": 92,
   "id": "acaa6e45",
   "metadata": {},
   "outputs": [
    {
     "data": {
      "text/plain": [
       "Text(0, 0.5, 'sales')"
      ]
     },
     "execution_count": 92,
     "metadata": {},
     "output_type": "execute_result"
    },
    {
     "data": {
      "image/png": "[encoded data removed]",
      "text/plain": [
       "<Figure size 640x480 with 1 Axes>"
      ]
     },
     "metadata": {},
     "output_type": "display_data"
    }
   ],
   "source": [
    "plt.ylabel('sales')"
   ]
  },
  {
   "cell_type": "markdown",
   "id": "b4b48e53",
   "metadata": {},
   "source": [
    "6. 눈금 이름 리스트 생성"
   ]
  },
  {
   "cell_type": "code",
   "execution_count": 101,
   "id": "77a5ac02",
   "metadata": {},
   "outputs": [],
   "source": [
    "xlabel = ['first', 'second','third','fourth']"
   ]
  },
  {
   "cell_type": "markdown",
   "id": "af914d17",
   "metadata": {},
   "source": [
    "7. 바 차트의 x축 눈금 이름 설정 , plt.xticks()"
   ]
  },
  {
   "cell_type": "code",
   "execution_count": 94,
   "id": "39de4724",
   "metadata": {},
   "outputs": [
    {
     "data": {
      "text/plain": [
       "([<matplotlib.axis.XTick at 0x21b6e6c4310>,\n",
       "  <matplotlib.axis.XTick at 0x21b6e6c42e0>,\n",
       "  <matplotlib.axis.XTick at 0x21b6e6a09d0>,\n",
       "  <matplotlib.axis.XTick at 0x21b6e6e8bb0>],\n",
       " [Text(0, 0, 'first'),\n",
       "  Text(1, 0, 'second'),\n",
       "  Text(2, 0, 'third'),\n",
       "  Text(3, 0, 'fourth')])"
      ]
     },
     "execution_count": 94,
     "metadata": {},
     "output_type": "execute_result"
    },
    {
     "data": {
      "image/png": "[encoded data removed]",
      "text/plain": [
       "<Figure size 640x480 with 1 Axes>"
      ]
     },
     "metadata": {},
     "output_type": "display_data"
    }
   ],
   "source": [
    "plt.xticks(x, xlabel, fontsize = 10)"
   ]
  },
  {
   "cell_type": "markdown",
   "id": "38db82d7",
   "metadata": {},
   "source": [
    "8. 범례 설정 , plt.legend()"
   ]
  },
  {
   "cell_type": "code",
   "execution_count": 95,
   "id": "b5abc4e6",
   "metadata": {},
   "outputs": [
    {
     "data": {
      "text/plain": [
       "<matplotlib.legend.Legend at 0x21b6e870a30>"
      ]
     },
     "execution_count": 95,
     "metadata": {},
     "output_type": "execute_result"
    },
    {
     "data": {
      "image/png": "[encoded data removed]",
      "text/plain": [
       "<Figure size 640x480 with 1 Axes>"
      ]
     },
     "metadata": {},
     "output_type": "display_data"
    }
   ],
   "source": [
    "plt.legend(['chairs', 'desks'])"
   ]
  },
  {
   "cell_type": "markdown",
   "id": "a991ac82",
   "metadata": {},
   "source": [
    "9. 바 차트 표시"
   ]
  },
  {
   "cell_type": "code",
   "execution_count": 102,
   "id": "0834f6f4",
   "metadata": {},
   "outputs": [],
   "source": [
    "plt.show()"
   ]
  }
 ],
 "metadata": {
  "kernelspec": {
   "display_name": "Python 3 (ipykernel)",
   "language": "python",
   "name": "python3"
  },
  "language_info": {
   "codemirror_mode": {
    "name": "ipython",
    "version": 3
   },
   "file_extension": ".py",
   "mimetype": "text/x-python",
   "name": "python",
   "nbconvert_exporter": "python",
   "pygments_lexer": "ipython3",
   "version": "3.9.16"
  }
 },
 "nbformat": 4,
 "nbformat_minor": 5
}
